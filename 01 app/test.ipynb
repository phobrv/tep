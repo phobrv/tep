{
 "cells": [
  {
   "cell_type": "code",
   "execution_count": 7,
   "metadata": {},
   "outputs": [
    {
     "name": "stdout",
     "output_type": "stream",
     "text": [
      "2022-01-03 00:00:00\n"
     ]
    }
   ],
   "source": [
    "from datetime import datetime\n",
    "\n",
    "fname = \"3 January 2022\"\n",
    "splitA = fname.split(\",\")\n",
    "print(datetime.strptime(fname, \"%d %B %Y\"))"
   ]
  },
  {
   "cell_type": "code",
   "execution_count": null,
   "metadata": {},
   "outputs": [],
   "source": [
    "import os\n",
    "ignore_folder = ['.git', '01app', '01thumbs']\n",
    "\n",
    "def handleFolderName(name: str):\n",
    "    return name.replace(\"../\", \"\").split(\"/\")[0]\n",
    "\n",
    "for dirInfo in os.walk('../'):\n",
    "    fdName = handleFolderName(dirInfo[0])\n",
    "    if fdName not in ignore_folder and fdName != '':\n",
    "        for img in dirInfo[2]:\n",
    "            if img.find(\"(1)\") > 0 :\n",
    "                pathFileDup = \"../{}/{}\".format(fdName,img)\n",
    "                os.remove(pathFileDup)"
   ]
  },
  {
   "cell_type": "code",
   "execution_count": 5,
   "metadata": {},
   "outputs": [
    {
     "name": "stdout",
     "output_type": "stream",
     "text": [
      "Exist\n"
     ]
    }
   ],
   "source": [
    "from os.path import exists\n",
    "if exists(\"../source/Hanoi, August 18, 2021/.DS_Store\") == True:\n",
    "    print(\"Exist\")"
   ]
  },
  {
   "cell_type": "code",
   "execution_count": 7,
   "metadata": {},
   "outputs": [
    {
     "name": "stdout",
     "output_type": "stream",
     "text": [
      "717\n"
     ]
    }
   ],
   "source": [
    "i = 0\n",
    "for dirInfo in os.walk('../1920'):  \n",
    "    for img in dirInfo[2]:\n",
    "        i = i+1\n",
    "print(i)"
   ]
  }
 ],
 "metadata": {
  "kernelspec": {
   "display_name": "Python 3.9.12 64-bit",
   "language": "python",
   "name": "python3"
  },
  "language_info": {
   "codemirror_mode": {
    "name": "ipython",
    "version": 3
   },
   "file_extension": ".py",
   "mimetype": "text/x-python",
   "name": "python",
   "nbconvert_exporter": "python",
   "pygments_lexer": "ipython3",
   "version": "3.9.12"
  },
  "orig_nbformat": 4,
  "vscode": {
   "interpreter": {
    "hash": "aee8b7b246df8f9039afb4144a1f6fd8d2ca17a180786b69acc140d282b71a49"
   }
  }
 },
 "nbformat": 4,
 "nbformat_minor": 2
}
